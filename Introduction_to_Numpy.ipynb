{
  "nbformat": 4,
  "nbformat_minor": 0,
  "metadata": {
    "colab": {
      "provenance": [],
      "authorship_tag": "ABX9TyMSnSOKvLkfbM7+ffIAC8pf",
      "include_colab_link": true
    },
    "kernelspec": {
      "name": "python3",
      "display_name": "Python 3"
    },
    "language_info": {
      "name": "python"
    }
  },
  "cells": [
    {
      "cell_type": "markdown",
      "metadata": {
        "id": "view-in-github",
        "colab_type": "text"
      },
      "source": [
        "<a href=\"https://colab.research.google.com/github/SnehithaNalluri/Python-mini-project-/blob/main/Introduction_to_Numpy.ipynb\" target=\"_parent\"><img src=\"https://colab.research.google.com/assets/colab-badge.svg\" alt=\"Open In Colab\"/></a>"
      ]
    },
    {
      "cell_type": "code",
      "execution_count": null,
      "metadata": {
        "id": "L16fVEgUtUnl"
      },
      "outputs": [],
      "source": [
        "#Numpy - Numeric Python\n",
        "#Most powerful package - Library\n",
        "\n",
        "#Numpy- Dimensions\n",
        "\n",
        "#A - One Dimensional Array\n",
        "#[A,B] || [A\n",
        "#.         B] - Two Dimensional Array - Row || Column\n",
        "\n",
        "#Three Dimensional\n",
        "\n",
        "#Array- Storing,Manipulating, Similar Data Type\n",
        "\n",
        "#Faster than sny mathematical functions\n",
        "#convinient compared to other packages.\n",
        "#Memory Efficiency\n",
        "#Support multi dimensional arrays\n",
        "\n",
        "#speed(Numpy operations) >speed,(Lists operations)\n",
        "#size(Numpy operations) < size(Lists operationns)\n",
        "#Memory Optimization (Numpy) > Memory Optimisation (List operations)"
      ]
    },
    {
      "cell_type": "code",
      "source": [
        "#Install numpy - pip3 install numpy // pip install numpy"
      ],
      "metadata": {
        "id": "Z8Fm_W5BvvNM"
      },
      "execution_count": null,
      "outputs": []
    },
    {
      "cell_type": "code",
      "source": [
        "import numpy as np"
      ],
      "metadata": {
        "id": "Td-MuT9Hv8is"
      },
      "execution_count": null,
      "outputs": []
    },
    {
      "cell_type": "code",
      "source": [
        "#Create a numpy array\n",
        "# ID array\n",
        "\n",
        "arrID = np.array([1,2,3,4,5])\n",
        "print(arrID)"
      ],
      "metadata": {
        "colab": {
          "base_uri": "https://localhost:8080/"
        },
        "id": "zcsLsa5nwbj0",
        "outputId": "9e2ebfeb-d664-498f-8f19-a48d79e25db8"
      },
      "execution_count": null,
      "outputs": [
        {
          "output_type": "stream",
          "name": "stdout",
          "text": [
            "[1 2 3 4 5]\n"
          ]
        }
      ]
    },
    {
      "cell_type": "code",
      "source": [
        "#creating 2D array - Matrix\n",
        "arr2D = np.array([\n",
        "    [0,0,0],[0,0,0]\n",
        "\n",
        "])\n",
        "\n"
      ],
      "metadata": {
        "id": "5ue51zFRw23t"
      },
      "execution_count": 8,
      "outputs": []
    },
    {
      "cell_type": "code",
      "source": [
        "print(arr2D)"
      ],
      "metadata": {
        "colab": {
          "base_uri": "https://localhost:8080/"
        },
        "id": "v8ntNerbzLV1",
        "outputId": "b0a13eae-4349-43c8-d175-43c862a77af6"
      },
      "execution_count": 9,
      "outputs": [
        {
          "output_type": "stream",
          "name": "stdout",
          "text": [
            "[[0 0 0]\n",
            " [0 0 0]]\n"
          ]
        }
      ]
    },
    {
      "cell_type": "code",
      "source": [
        "#creating arrays with default values\n",
        "\n",
        "#Creating matrix with all elements as '0\n",
        "\n",
        "\n",
        "allZeroes = np.zeros([2,3])\n",
        "print(allZeroes)\n",
        "\n",
        "#Creating matrix with all values of elements as '1'\n",
        "allOnes = np.ones([2,3])\n",
        "print(allOnes)\n",
        "\n",
        "#Creating matrix with all value of elements 'constant value - n - Fill value'\n",
        "\n",
        "allConstant = np.full([2,3],6)\n",
        "print(allConstant)"
      ],
      "metadata": {
        "colab": {
          "base_uri": "https://localhost:8080/"
        },
        "id": "1L-c_4GIzSCn",
        "outputId": "364718b2-86e1-405a-e5ce-e12bf8c236f1"
      },
      "execution_count": 20,
      "outputs": [
        {
          "output_type": "stream",
          "name": "stdout",
          "text": [
            "[[0. 0. 0.]\n",
            " [0. 0. 0.]]\n",
            "[[1. 1. 1.]\n",
            " [1. 1. 1.]]\n",
            "[[6 6 6]\n",
            " [6 6 6]]\n"
          ]
        }
      ]
    },
    {
      "cell_type": "code",
      "source": [
        "#Create an identity matrix - I\n",
        "\n",
        "Identity = np.eye(4)\n",
        "print(Identity)\n",
        "\n",
        "#Identity Matrix - Aij = 1 && Aij = 0\n",
        "#For all A Belongs to R MxN\n",
        "#Aij -\n",
        "\n"
      ],
      "metadata": {
        "colab": {
          "base_uri": "https://localhost:8080/"
        },
        "id": "3LcwiwpJz5XL",
        "outputId": "f7054366-672c-48f2-f548-dcc158b5e2a4"
      },
      "execution_count": 19,
      "outputs": [
        {
          "output_type": "stream",
          "name": "stdout",
          "text": [
            "[[1. 0. 0. 0.]\n",
            " [0. 1. 0. 0.]\n",
            " [0. 0. 1. 0.]\n",
            " [0. 0. 0. 1.]]\n"
          ]
        }
      ]
    },
    {
      "cell_type": "code",
      "source": [
        "#Creating random Matrices\n",
        "\n",
        "# between  0 and 1\n",
        "rand1 = np.random.rand(3,3)\n",
        "print(rand1)\n",
        "\n",
        "#between a and b\n",
        "rand2 = np.random.randint(10,20,(3,3))\n",
        "print(rand2)"
      ],
      "metadata": {
        "colab": {
          "base_uri": "https://localhost:8080/"
        },
        "id": "Fbj40iNo2unY",
        "outputId": "af30b14e-e352-47dd-a6cd-a376768a6c7b"
      },
      "execution_count": 23,
      "outputs": [
        {
          "output_type": "stream",
          "name": "stdout",
          "text": [
            "[[0.73954133 0.01638612 0.40175129]\n",
            " [0.61329975 0.01849879 0.71981861]\n",
            " [0.19280279 0.74813623 0.07201806]]\n",
            "[[10 10 11]\n",
            " [13 14 16]\n",
            " [11 12 13]]\n"
          ]
        }
      ]
    },
    {
      "cell_type": "code",
      "source": [
        "\n",
        "\n",
        "\n",
        "\n",
        "\n",
        "\n",
        "\n",
        "#Array properties\n",
        "\n",
        "arr = np.array([[1,2,3,4],[2,3,4,5]])\n",
        "print(arr)\n",
        "\n",
        "#Shape of array\n",
        "print(f'\\nThe shape of the array is {arr.shape}')\n",
        "\n",
        "#Size of array\n",
        "print(f'\\nThe size of the array is {arr.size}')\n",
        "#Datatype\n",
        "print(f'\\nThe Datatype of the array is {arr.dtype}')\n",
        "\n",
        "#Dimensions of array\n",
        "print(f'\\nThe Dimensions of the array is {arr.ndim}')"
      ],
      "metadata": {
        "colab": {
          "base_uri": "https://localhost:8080/"
        },
        "id": "dgAFh7ph4ojk",
        "outputId": "8de9d77f-ea39-4072-f979-b8856c4047bd"
      },
      "execution_count": 43,
      "outputs": [
        {
          "output_type": "stream",
          "name": "stdout",
          "text": [
            "[[1 2 3 4]\n",
            " [2 3 4 5]]\n",
            "\n",
            "The shape of the array is (2, 4)\n",
            "\n",
            "The size of the array is 8\n",
            "\n",
            "The Datatype of the array is int64\n",
            "\n",
            "The Dimensions of the array is 2\n"
          ]
        }
      ]
    },
    {
      "cell_type": "code",
      "source": [
        "#indexing and Slicing\n",
        "\n",
        "#Access the elements in 1D Array\n",
        "arr = np.array([1,2,3,4])\n",
        "print(arr)\n",
        "print(arr[3])\n",
        "\n",
        "#Slicing the elements\n",
        "\n",
        "print(arr[0:3])\n",
        "\n",
        "# Access the element in 2D array\n",
        "arr2 = np.array([[1,2,3],[2,3,4]])\n",
        "print(arr2)\n",
        "\n",
        "print(arr2[1,1])\n",
        "print(arr2[0,:]) # first row with all columns\n",
        "print(arr2[:,0]) # first column with all rows\n",
        "\n"
      ],
      "metadata": {
        "colab": {
          "base_uri": "https://localhost:8080/"
        },
        "id": "ZeY4Wllw7J_w",
        "outputId": "2a1f8769-eba3-4ed6-942a-ddbc76cc5605"
      },
      "execution_count": 44,
      "outputs": [
        {
          "output_type": "stream",
          "name": "stdout",
          "text": [
            "[1 2 3 4]\n",
            "4\n",
            "[1 2 3]\n",
            "[[1 2 3]\n",
            " [2 3 4]]\n",
            "3\n",
            "[1 2 3]\n",
            "[1 2]\n"
          ]
        }
      ]
    },
    {
      "cell_type": "code",
      "source": [
        "#l1 = []\n",
        "#[l1.append(_) for _ in range(10)]\n",
        "\n",
        "l1 = np.arange(10,-10,-3)\n",
        "\n",
        "print(l1)\n"
      ],
      "metadata": {
        "colab": {
          "base_uri": "https://localhost:8080/"
        },
        "id": "s6YEpDd77JBn",
        "outputId": "6fc9f2f0-80a3-4e1f-af7a-5c6a71edc905"
      },
      "execution_count": 54,
      "outputs": [
        {
          "output_type": "stream",
          "name": "stdout",
          "text": [
            "[10  7  4  1 -2 -5 -8]\n"
          ]
        }
      ]
    },
    {
      "cell_type": "code",
      "source": [
        "#Mathematical operations\n",
        "\n",
        "a = np.array([1,2,3])\n",
        "b = np.array([3,4,5])\n",
        "\n",
        "print(f'The sum of a and b is { a+b}')\n",
        "print(f'The difference of a and b is {a-b}')\n",
        "print(f'The product of a and b is {a*b}')\n",
        "print(f'The division of a and b is {a/b}')"
      ],
      "metadata": {
        "colab": {
          "base_uri": "https://localhost:8080/"
        },
        "id": "NYUAjob4B2cT",
        "outputId": "3eb04e3c-20e6-4027-ad7c-7f8d1b902471"
      },
      "execution_count": 58,
      "outputs": [
        {
          "output_type": "stream",
          "name": "stdout",
          "text": [
            "The sum of a and b is [4 6 8]\n",
            "The difference of a and b is [-2 -2 -2]\n",
            "The product of a and b is [ 3  8 15]\n",
            "The division of a and b is [0.33333333 0.5        0.6       ]\n"
          ]
        }
      ]
    },
    {
      "cell_type": "code",
      "source": [
        "#Matrix Multiplication\n",
        "b1 = np.array([[1,2,3],[2,3,4]])\n",
        "b2 = np.array([[5,6],[7,8],[1,3]])\n",
        "\n",
        "#Dot product --- product = AB ---A. m x n --- B n x p\n",
        "c = np.dot(b1,b2)\n",
        "print(c)"
      ],
      "metadata": {
        "colab": {
          "base_uri": "https://localhost:8080/"
        },
        "id": "FztYt0ybCpZu",
        "outputId": "7dc9d94c-8a35-4228-9231-0e43d4b36b21"
      },
      "execution_count": 61,
      "outputs": [
        {
          "output_type": "stream",
          "name": "stdout",
          "text": [
            "[[22 31]\n",
            " [35 48]]\n"
          ]
        }
      ]
    },
    {
      "cell_type": "code",
      "source": [
        "print(b1)"
      ],
      "metadata": {
        "colab": {
          "base_uri": "https://localhost:8080/"
        },
        "id": "_2dpi6BaCoyg",
        "outputId": "285092a6-ada8-4f29-9ce7-dab549a3c983"
      },
      "execution_count": 62,
      "outputs": [
        {
          "output_type": "stream",
          "name": "stdout",
          "text": [
            "[[1 2 3]\n",
            " [2 3 4]]\n"
          ]
        }
      ]
    },
    {
      "cell_type": "code",
      "source": [
        "print(b2)"
      ],
      "metadata": {
        "colab": {
          "base_uri": "https://localhost:8080/"
        },
        "id": "RoroQu04Ev7i",
        "outputId": "ad64ac37-7315-4e94-e456-f028417f8697"
      },
      "execution_count": 63,
      "outputs": [
        {
          "output_type": "stream",
          "name": "stdout",
          "text": [
            "[[5 6]\n",
            " [7 8]\n",
            " [1 3]]\n"
          ]
        }
      ]
    }
  ]
}