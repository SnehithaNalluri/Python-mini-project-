{
  "nbformat": 4,
  "nbformat_minor": 0,
  "metadata": {
    "colab": {
      "provenance": [],
      "authorship_tag": "ABX9TyNMLQVljsZokC5mNjzQpdBe",
      "include_colab_link": true
    },
    "kernelspec": {
      "name": "python3",
      "display_name": "Python 3"
    },
    "language_info": {
      "name": "python"
    }
  },
  "cells": [
    {
      "cell_type": "markdown",
      "metadata": {
        "id": "view-in-github",
        "colab_type": "text"
      },
      "source": [
        "<a href=\"https://colab.research.google.com/github/SnehithaNalluri/Python-mini-project-/blob/main/Introduction_to_Numpy_S2.ipynb\" target=\"_parent\"><img src=\"https://colab.research.google.com/assets/colab-badge.svg\" alt=\"Open In Colab\"/></a>"
      ]
    },
    {
      "cell_type": "code",
      "execution_count": null,
      "metadata": {
        "id": "L16fVEgUtUnl"
      },
      "outputs": [],
      "source": [
        "#Numpy - Numeric Python\n",
        "#Most powerful package - Library\n",
        "\n",
        "#Numpy- Dimensions\n",
        "\n",
        "#A - One Dimensional Array\n",
        "#[A,B] || [A\n",
        "#.         B] - Two Dimensional Array - Row || Column\n",
        "\n",
        "#Three Dimensional\n",
        "\n",
        "#Array- Storing,Manipulating, Similar Data Type\n",
        "\n",
        "#Faster than sny mathematical functions\n",
        "#convinient compared to other packages.\n",
        "#Memory Efficiency\n",
        "#Support multi dimensional arrays\n",
        "\n",
        "#speed(Numpy operations) >speed,(Lists operations)\n",
        "#size(Numpy operations) < size(Lists operationns)\n",
        "#Memory Optimization (Numpy) > Memory Optimisation (List operations)"
      ]
    },
    {
      "cell_type": "code",
      "source": [
        "#Install numpy - pip3 install numpy // pip install numpy"
      ],
      "metadata": {
        "id": "Z8Fm_W5BvvNM"
      },
      "execution_count": null,
      "outputs": []
    },
    {
      "cell_type": "code",
      "source": [
        "import numpy as np"
      ],
      "metadata": {
        "id": "Td-MuT9Hv8is"
      },
      "execution_count": null,
      "outputs": []
    },
    {
      "cell_type": "code",
      "source": [
        "#Create a numpy array\n",
        "# ID array\n",
        "\n",
        "arrID = np.array([1,2,3,4,5])\n",
        "print(arrID)"
      ],
      "metadata": {
        "colab": {
          "base_uri": "https://localhost:8080/"
        },
        "id": "zcsLsa5nwbj0",
        "outputId": "9e2ebfeb-d664-498f-8f19-a48d79e25db8"
      },
      "execution_count": null,
      "outputs": [
        {
          "output_type": "stream",
          "name": "stdout",
          "text": [
            "[1 2 3 4 5]\n"
          ]
        }
      ]
    },
    {
      "cell_type": "code",
      "source": [
        "#creating 2D array - Matrix\n",
        "arr2D = np.array([\n",
        "    [0,0,0],[0,0,0]\n",
        "\n",
        "])\n",
        "\n"
      ],
      "metadata": {
        "id": "5ue51zFRw23t"
      },
      "execution_count": null,
      "outputs": []
    },
    {
      "cell_type": "code",
      "source": [
        "print(arr2D)"
      ],
      "metadata": {
        "colab": {
          "base_uri": "https://localhost:8080/"
        },
        "id": "v8ntNerbzLV1",
        "outputId": "b0a13eae-4349-43c8-d175-43c862a77af6"
      },
      "execution_count": null,
      "outputs": [
        {
          "output_type": "stream",
          "name": "stdout",
          "text": [
            "[[0 0 0]\n",
            " [0 0 0]]\n"
          ]
        }
      ]
    },
    {
      "cell_type": "code",
      "source": [
        "#creating arrays with default values\n",
        "\n",
        "#Creating matrix with all elements as '0\n",
        "\n",
        "\n",
        "allZeroes = np.zeros([2,3])\n",
        "print(allZeroes)\n",
        "\n",
        "#Creating matrix with all values of elements as '1'\n",
        "allOnes = np.ones([2,3])\n",
        "print(allOnes)\n",
        "\n",
        "#Creating matrix with all value of elements 'constant value - n - Fill value'\n",
        "\n",
        "allConstant = np.full([2,3],6)\n",
        "print(allConstant)"
      ],
      "metadata": {
        "colab": {
          "base_uri": "https://localhost:8080/"
        },
        "id": "1L-c_4GIzSCn",
        "outputId": "364718b2-86e1-405a-e5ce-e12bf8c236f1"
      },
      "execution_count": null,
      "outputs": [
        {
          "output_type": "stream",
          "name": "stdout",
          "text": [
            "[[0. 0. 0.]\n",
            " [0. 0. 0.]]\n",
            "[[1. 1. 1.]\n",
            " [1. 1. 1.]]\n",
            "[[6 6 6]\n",
            " [6 6 6]]\n"
          ]
        }
      ]
    },
    {
      "cell_type": "code",
      "source": [
        "#Create an identity matrix - I\n",
        "\n",
        "Identity = np.eye(4)\n",
        "print(Identity)\n",
        "\n",
        "#Identity Matrix - Aij = 1 && Aij = 0\n",
        "#For all A Belongs to R MxN\n",
        "#Aij -\n",
        "\n"
      ],
      "metadata": {
        "colab": {
          "base_uri": "https://localhost:8080/"
        },
        "id": "3LcwiwpJz5XL",
        "outputId": "f7054366-672c-48f2-f548-dcc158b5e2a4"
      },
      "execution_count": null,
      "outputs": [
        {
          "output_type": "stream",
          "name": "stdout",
          "text": [
            "[[1. 0. 0. 0.]\n",
            " [0. 1. 0. 0.]\n",
            " [0. 0. 1. 0.]\n",
            " [0. 0. 0. 1.]]\n"
          ]
        }
      ]
    },
    {
      "cell_type": "code",
      "source": [
        "#Creating random Matrices\n",
        "\n",
        "# between  0 and 1\n",
        "rand1 = np.random.rand(3,3)\n",
        "print(rand1)\n",
        "\n",
        "#between a and b\n",
        "rand2 = np.random.randint(10,20,(3,3))\n",
        "print(rand2)"
      ],
      "metadata": {
        "colab": {
          "base_uri": "https://localhost:8080/"
        },
        "id": "Fbj40iNo2unY",
        "outputId": "af30b14e-e352-47dd-a6cd-a376768a6c7b"
      },
      "execution_count": null,
      "outputs": [
        {
          "output_type": "stream",
          "name": "stdout",
          "text": [
            "[[0.73954133 0.01638612 0.40175129]\n",
            " [0.61329975 0.01849879 0.71981861]\n",
            " [0.19280279 0.74813623 0.07201806]]\n",
            "[[10 10 11]\n",
            " [13 14 16]\n",
            " [11 12 13]]\n"
          ]
        }
      ]
    },
    {
      "cell_type": "code",
      "source": [
        "\n",
        "\n",
        "\n",
        "\n",
        "\n",
        "\n",
        "\n",
        "#Array properties\n",
        "\n",
        "arr = np.array([[1,2,3,4],[2,3,4,5]])\n",
        "print(arr)\n",
        "\n",
        "#Shape of array\n",
        "print(f'\\nThe shape of the array is {arr.shape}')\n",
        "\n",
        "#Size of array\n",
        "print(f'\\nThe size of the array is {arr.size}')\n",
        "#Datatype\n",
        "print(f'\\nThe Datatype of the array is {arr.dtype}')\n",
        "\n",
        "#Dimensions of array\n",
        "print(f'\\nThe Dimensions of the array is {arr.ndim}')"
      ],
      "metadata": {
        "colab": {
          "base_uri": "https://localhost:8080/"
        },
        "id": "dgAFh7ph4ojk",
        "outputId": "8de9d77f-ea39-4072-f979-b8856c4047bd"
      },
      "execution_count": null,
      "outputs": [
        {
          "output_type": "stream",
          "name": "stdout",
          "text": [
            "[[1 2 3 4]\n",
            " [2 3 4 5]]\n",
            "\n",
            "The shape of the array is (2, 4)\n",
            "\n",
            "The size of the array is 8\n",
            "\n",
            "The Datatype of the array is int64\n",
            "\n",
            "The Dimensions of the array is 2\n"
          ]
        }
      ]
    },
    {
      "cell_type": "code",
      "source": [
        "#indexing and Slicing\n",
        "\n",
        "#Access the elements in 1D Array\n",
        "arr = np.array([1,2,3,4])\n",
        "print(arr)\n",
        "print(arr[3])\n",
        "\n",
        "#Slicing the elements\n",
        "\n",
        "print(arr[0:3])\n",
        "\n",
        "# Access the element in 2D array\n",
        "arr2 = np.array([[1,2,3],[2,3,4]])\n",
        "print(arr2)\n",
        "\n",
        "print(arr2[1,1])\n",
        "print(arr2[0,:]) # first row with all columns\n",
        "print(arr2[:,0]) # first column with all rows\n",
        "\n"
      ],
      "metadata": {
        "colab": {
          "base_uri": "https://localhost:8080/"
        },
        "id": "ZeY4Wllw7J_w",
        "outputId": "2a1f8769-eba3-4ed6-942a-ddbc76cc5605"
      },
      "execution_count": null,
      "outputs": [
        {
          "output_type": "stream",
          "name": "stdout",
          "text": [
            "[1 2 3 4]\n",
            "4\n",
            "[1 2 3]\n",
            "[[1 2 3]\n",
            " [2 3 4]]\n",
            "3\n",
            "[1 2 3]\n",
            "[1 2]\n"
          ]
        }
      ]
    },
    {
      "cell_type": "code",
      "source": [
        "#l1 = []\n",
        "#[l1.append(_) for _ in range(10)]\n",
        "\n",
        "l1 = np.arange(10,-10,-3)\n",
        "\n",
        "print(l1)\n"
      ],
      "metadata": {
        "colab": {
          "base_uri": "https://localhost:8080/"
        },
        "id": "s6YEpDd77JBn",
        "outputId": "6fc9f2f0-80a3-4e1f-af7a-5c6a71edc905"
      },
      "execution_count": null,
      "outputs": [
        {
          "output_type": "stream",
          "name": "stdout",
          "text": [
            "[10  7  4  1 -2 -5 -8]\n"
          ]
        }
      ]
    },
    {
      "cell_type": "code",
      "source": [
        "#Mathematical operations\n",
        "\n",
        "a = np.array([1,2,3])\n",
        "b = np.array([3,4,5])\n",
        "\n",
        "print(f'The sum of a and b is { a+b}')\n",
        "print(f'The difference of a and b is {a-b}')\n",
        "print(f'The product of a and b is {a*b}')\n",
        "print(f'The division of a and b is {a/b}')"
      ],
      "metadata": {
        "colab": {
          "base_uri": "https://localhost:8080/"
        },
        "id": "NYUAjob4B2cT",
        "outputId": "3eb04e3c-20e6-4027-ad7c-7f8d1b902471"
      },
      "execution_count": null,
      "outputs": [
        {
          "output_type": "stream",
          "name": "stdout",
          "text": [
            "The sum of a and b is [4 6 8]\n",
            "The difference of a and b is [-2 -2 -2]\n",
            "The product of a and b is [ 3  8 15]\n",
            "The division of a and b is [0.33333333 0.5        0.6       ]\n"
          ]
        }
      ]
    },
    {
      "cell_type": "code",
      "source": [
        "#Matrix Multiplication\n",
        "b1 = np.array([[1,2,3],[2,3,4]])\n",
        "b2 = np.array([[5,6],[7,8],[1,3]])\n",
        "\n",
        "#Dot product --- product = AB ---A. m x n --- B n x p\n",
        "c = np.dot(b1,b2)\n",
        "print(c)"
      ],
      "metadata": {
        "colab": {
          "base_uri": "https://localhost:8080/"
        },
        "id": "FztYt0ybCpZu",
        "outputId": "a0531edf-7fd1-4e8a-956f-25b460bd4db8"
      },
      "execution_count": null,
      "outputs": [
        {
          "output_type": "stream",
          "name": "stdout",
          "text": [
            "[[22 31]\n",
            " [35 48]]\n"
          ]
        }
      ]
    },
    {
      "cell_type": "code",
      "source": [
        "print(b1)"
      ],
      "metadata": {
        "colab": {
          "base_uri": "https://localhost:8080/"
        },
        "id": "_2dpi6BaCoyg",
        "outputId": "a6434335-a533-437b-bc21-e70c239be0dd"
      },
      "execution_count": null,
      "outputs": [
        {
          "output_type": "stream",
          "name": "stdout",
          "text": [
            "[[1 2 3]\n",
            " [2 3 4]]\n"
          ]
        }
      ]
    },
    {
      "cell_type": "code",
      "source": [
        "print(b2)"
      ],
      "metadata": {
        "colab": {
          "base_uri": "https://localhost:8080/"
        },
        "id": "RoroQu04Ev7i",
        "outputId": "1686f2c8-ef30-41b8-a130-dedce4d94ff8"
      },
      "execution_count": null,
      "outputs": [
        {
          "output_type": "stream",
          "name": "stdout",
          "text": [
            "[[5 6]\n",
            " [7 8]\n",
            " [1 3]]\n"
          ]
        }
      ]
    },
    {
      "cell_type": "code",
      "source": [
        "#Statistical operations\n",
        "mean = c.mean()\n",
        "max = c.max()\n",
        "median= np.median(c)\n",
        "std = np.std(c)\n",
        "var = np.var(c)"
      ],
      "metadata": {
        "id": "5K68972Y8k4N"
      },
      "execution_count": null,
      "outputs": []
    },
    {
      "cell_type": "code",
      "source": [
        "print(mean)"
      ],
      "metadata": {
        "colab": {
          "base_uri": "https://localhost:8080/"
        },
        "id": "BdifAXmS-Bas",
        "outputId": "adc216b9-93a5-47ea-ae4e-cc8be697e1ee"
      },
      "execution_count": null,
      "outputs": [
        {
          "output_type": "stream",
          "name": "stdout",
          "text": [
            "34.0\n"
          ]
        }
      ]
    },
    {
      "cell_type": "code",
      "source": [
        "print(max)"
      ],
      "metadata": {
        "colab": {
          "base_uri": "https://localhost:8080/"
        },
        "id": "zsr3mLcm-ZU9",
        "outputId": "69818cf8-83ec-412a-a2a9-e5ff4fc5039a"
      },
      "execution_count": null,
      "outputs": [
        {
          "output_type": "stream",
          "name": "stdout",
          "text": [
            "48\n"
          ]
        }
      ]
    },
    {
      "cell_type": "code",
      "source": [
        "print(median)"
      ],
      "metadata": {
        "colab": {
          "base_uri": "https://localhost:8080/"
        },
        "id": "UzZElaH9-dB4",
        "outputId": "428ab490-2e19-4bd1-d70d-62f80fd40862"
      },
      "execution_count": null,
      "outputs": [
        {
          "output_type": "stream",
          "name": "stdout",
          "text": [
            "33.0\n"
          ]
        }
      ]
    },
    {
      "cell_type": "code",
      "source": [
        "print(std)"
      ],
      "metadata": {
        "colab": {
          "base_uri": "https://localhost:8080/"
        },
        "id": "84cZUAE_-n8v",
        "outputId": "3a417acb-f0f7-42c9-bc3c-b9e139df0ca5"
      },
      "execution_count": null,
      "outputs": [
        {
          "output_type": "stream",
          "name": "stdout",
          "text": [
            "9.354143466934854\n"
          ]
        }
      ]
    },
    {
      "cell_type": "code",
      "source": [
        "print(var)"
      ],
      "metadata": {
        "colab": {
          "base_uri": "https://localhost:8080/"
        },
        "id": "BWRD6Hr3-t3Z",
        "outputId": "4916e286-6add-4f07-a7d3-b03eb36484cb"
      },
      "execution_count": null,
      "outputs": [
        {
          "output_type": "stream",
          "name": "stdout",
          "text": [
            "87.5\n"
          ]
        }
      ]
    },
    {
      "cell_type": "code",
      "source": [
        "std*std"
      ],
      "metadata": {
        "colab": {
          "base_uri": "https://localhost:8080/"
        },
        "id": "bbhDakHt-5cO",
        "outputId": "56d3ea03-c29b-42c5-f2d3-7686bc440b7e"
      },
      "execution_count": null,
      "outputs": [
        {
          "output_type": "execute_result",
          "data": {
            "text/plain": [
              "87.50000000000001"
            ]
          },
          "metadata": {},
          "execution_count": 19
        }
      ]
    },
    {
      "cell_type": "code",
      "source": [
        "#Trignometric functions\n",
        "\n",
        "#Sin(x)\n",
        "#Cos(x)\n",
        "#Tan(x)\n",
        "#Cosec - Sin(x)/Cos(x)\n",
        "#Sec - 1/Cos(x)\n",
        "#Cot - 1/Tan(x)\n",
        "\n",
        "angles = np.array([0,15,30,45,60,75,90])\n",
        "\n",
        "#Sin(array)\n",
        "\n",
        "result = np.sin(np.radians(angles))\n",
        "result1 = np.cos(np.radians(angles))\n",
        "result2 = np.tan(np.radians(angles))\n",
        "\n"
      ],
      "metadata": {
        "id": "8hFS0SGj_BSl"
      },
      "execution_count": null,
      "outputs": []
    },
    {
      "cell_type": "code",
      "source": [
        "print(result)\n",
        "print(result1)\n",
        "print(result2)"
      ],
      "metadata": {
        "colab": {
          "base_uri": "https://localhost:8080/"
        },
        "id": "K_i1fsppAhAN",
        "outputId": "f2266fb3-489e-4809-aaa2-864356b34761"
      },
      "execution_count": null,
      "outputs": [
        {
          "output_type": "stream",
          "name": "stdout",
          "text": [
            "[0.         0.25881905 0.5        0.70710678 0.8660254  0.96592583\n",
            " 1.        ]\n",
            "[1.00000000e+00 9.65925826e-01 8.66025404e-01 7.07106781e-01\n",
            " 5.00000000e-01 2.58819045e-01 6.12323400e-17]\n",
            "[0.00000000e+00 2.67949192e-01 5.77350269e-01 1.00000000e+00\n",
            " 1.73205081e+00 3.73205081e+00 1.63312394e+16]\n"
          ]
        }
      ]
    },
    {
      "cell_type": "code",
      "source": [
        "arr = np.array([1,2,3,4,5,6])\n",
        "\n",
        "#Reshape the array\n",
        "reshapedarr = arr.reshape(2,3)\n",
        "\n",
        "print(reshapedarr)\n"
      ],
      "metadata": {
        "colab": {
          "base_uri": "https://localhost:8080/"
        },
        "id": "S8ljZGMHAz4O",
        "outputId": "86a1cb3e-5359-45ab-f0e1-e0437eb84922"
      },
      "execution_count": null,
      "outputs": [
        {
          "output_type": "stream",
          "name": "stdout",
          "text": [
            "[[1 2 3]\n",
            " [4 5 6]]\n"
          ]
        }
      ]
    },
    {
      "cell_type": "code",
      "source": [
        "#Convert / Flatten any n dim array\n",
        "flattenedarr = arr.flatten()\n",
        "\n",
        "print(flattenedarr)"
      ],
      "metadata": {
        "colab": {
          "base_uri": "https://localhost:8080/"
        },
        "id": "Ji-4bv4bBJtH",
        "outputId": "b6fe53cc-d236-477a-c3fa-fea8945f5360"
      },
      "execution_count": null,
      "outputs": [
        {
          "output_type": "stream",
          "name": "stdout",
          "text": [
            "[1 2 3 4 5 6]\n"
          ]
        }
      ]
    },
    {
      "cell_type": "code",
      "source": [
        "#Stacking the data\n",
        "\n",
        "\n",
        "\n",
        "\n",
        "\n",
        "\n",
        "arr1 = np.array([1,2,3,4])\n",
        "arr2 = np.array([10,20,30,40])\n",
        "\n",
        "#Vertical Stacking\n",
        "arr3 = np.vstack((arr1,arr2))\n",
        "\n",
        "print(f'The shape of arr3 is { arr3.shape}')\n",
        "\n",
        "#Horizontal stacking\n",
        "arr4 = np.hstack((arr1,arr2))\n",
        "print(f'The shape of arr4 is {arr4.shape}')\n",
        "print(arr4)"
      ],
      "metadata": {
        "colab": {
          "base_uri": "https://localhost:8080/"
        },
        "id": "r1TtJzOKEmNR",
        "outputId": "61d4c805-fe5d-4423-c4bb-2f9c834a71d6"
      },
      "execution_count": null,
      "outputs": [
        {
          "output_type": "stream",
          "name": "stdout",
          "text": [
            "The shape of arr3 is (2, 4)\n",
            "The shape of arr4 is (8,)\n",
            "[ 1  2  3  4 10 20 30 40]\n"
          ]
        }
      ]
    },
    {
      "cell_type": "code",
      "source": [
        "#Filtering\n",
        "arr = np.array([10,20,30,40,50,60,70,80])\n",
        "\n",
        "farr = arr[arr>40]\n",
        "\n",
        "print(farr)"
      ],
      "metadata": {
        "colab": {
          "base_uri": "https://localhost:8080/"
        },
        "id": "r3d5-N1gGfYl",
        "outputId": "16831a9a-1848-47f8-c38f-5accb2cccd1d"
      },
      "execution_count": null,
      "outputs": [
        {
          "output_type": "stream",
          "name": "stdout",
          "text": [
            "[50 60 70 80]\n"
          ]
        }
      ]
    },
    {
      "cell_type": "code",
      "source": [],
      "metadata": {
        "id": "-WchD3khG_VE"
      },
      "execution_count": null,
      "outputs": []
    },
    {
      "cell_type": "markdown",
      "source": [],
      "metadata": {
        "id": "quVb5CIBAflZ"
      }
    },
    {
      "cell_type": "markdown",
      "source": [],
      "metadata": {
        "id": "qQO1cske-tCY"
      }
    },
    {
      "cell_type": "markdown",
      "source": [],
      "metadata": {
        "id": "shRaKa4Y-rZL"
      }
    },
    {
      "cell_type": "markdown",
      "source": [],
      "metadata": {
        "id": "UTkdJ_u8-nFL"
      }
    },
    {
      "cell_type": "markdown",
      "source": [],
      "metadata": {
        "id": "YrQIxUBJ-W6D"
      }
    },
    {
      "cell_type": "markdown",
      "source": [],
      "metadata": {
        "id": "JK5tiCkt-AOs"
      }
    }
  ]
}